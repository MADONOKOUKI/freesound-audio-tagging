{
 "cells": [
  {
   "cell_type": "code",
   "execution_count": 23,
   "metadata": {},
   "outputs": [],
   "source": [
    "import os\n",
    "import sys\n",
    "import numpy as np\n",
    "import pandas as pd\n",
    "import librosa\n",
    "import tqdm\n",
    "from sklearn.preprocessing import LabelEncoder\n",
    "\n",
    "import torch\n",
    "import torch.nn as nn\n",
    "import torch.nn.functional as F\n",
    "import torch.utils.data\n",
    "from torch.utils.data.sampler import SubsetRandomSampler\n",
    "\n",
    "import matplotlib.pyplot as plt"
   ]
  },
  {
   "cell_type": "code",
   "execution_count": 2,
   "metadata": {},
   "outputs": [],
   "source": [
    "%reload_ext autoreload\n",
    "%autoreload 2\n",
    "%matplotlib inline"
   ]
  },
  {
   "cell_type": "code",
   "execution_count": 3,
   "metadata": {},
   "outputs": [],
   "source": [
    "sys.path.append('..')"
   ]
  },
  {
   "cell_type": "code",
   "execution_count": 4,
   "metadata": {},
   "outputs": [],
   "source": [
    "test_df = pd.read_csv('../data/sample_submission.csv')"
   ]
  },
  {
   "cell_type": "code",
   "execution_count": 5,
   "metadata": {},
   "outputs": [
    {
     "data": {
      "text/html": [
       "<div>\n",
       "<style scoped>\n",
       "    .dataframe tbody tr th:only-of-type {\n",
       "        vertical-align: middle;\n",
       "    }\n",
       "\n",
       "    .dataframe tbody tr th {\n",
       "        vertical-align: top;\n",
       "    }\n",
       "\n",
       "    .dataframe thead th {\n",
       "        text-align: right;\n",
       "    }\n",
       "</style>\n",
       "<table border=\"1\" class=\"dataframe\">\n",
       "  <thead>\n",
       "    <tr style=\"text-align: right;\">\n",
       "      <th></th>\n",
       "      <th>fname</th>\n",
       "      <th>label</th>\n",
       "    </tr>\n",
       "  </thead>\n",
       "  <tbody>\n",
       "    <tr>\n",
       "      <th>0</th>\n",
       "      <td>00063640.wav</td>\n",
       "      <td>Laughter Hi-Hat Flute</td>\n",
       "    </tr>\n",
       "    <tr>\n",
       "      <th>1</th>\n",
       "      <td>0013a1db.wav</td>\n",
       "      <td>Laughter Hi-Hat Flute</td>\n",
       "    </tr>\n",
       "    <tr>\n",
       "      <th>2</th>\n",
       "      <td>002bb878.wav</td>\n",
       "      <td>Laughter Hi-Hat Flute</td>\n",
       "    </tr>\n",
       "    <tr>\n",
       "      <th>3</th>\n",
       "      <td>002d392d.wav</td>\n",
       "      <td>Laughter Hi-Hat Flute</td>\n",
       "    </tr>\n",
       "    <tr>\n",
       "      <th>4</th>\n",
       "      <td>00326aa9.wav</td>\n",
       "      <td>Laughter Hi-Hat Flute</td>\n",
       "    </tr>\n",
       "  </tbody>\n",
       "</table>\n",
       "</div>"
      ],
      "text/plain": [
       "          fname                  label\n",
       "0  00063640.wav  Laughter Hi-Hat Flute\n",
       "1  0013a1db.wav  Laughter Hi-Hat Flute\n",
       "2  002bb878.wav  Laughter Hi-Hat Flute\n",
       "3  002d392d.wav  Laughter Hi-Hat Flute\n",
       "4  00326aa9.wav  Laughter Hi-Hat Flute"
      ]
     },
     "execution_count": 5,
     "metadata": {},
     "output_type": "execute_result"
    }
   ],
   "source": [
    "test_df.head()"
   ]
  },
  {
   "cell_type": "code",
   "execution_count": 6,
   "metadata": {},
   "outputs": [],
   "source": [
    "labels = np.load('../labels.npy')"
   ]
  },
  {
   "cell_type": "code",
   "execution_count": 7,
   "metadata": {},
   "outputs": [
    {
     "data": {
      "text/plain": [
       "array(['Acoustic_guitar', 'Applause', 'Bark', 'Bass_drum',\n",
       "       'Burping_or_eructation', 'Bus', 'Cello', 'Chime', 'Clarinet',\n",
       "       'Computer_keyboard', 'Cough', 'Cowbell', 'Double_bass',\n",
       "       'Drawer_open_or_close', 'Electric_piano', 'Fart',\n",
       "       'Finger_snapping', 'Fireworks', 'Flute', 'Glockenspiel', 'Gong',\n",
       "       'Gunshot_or_gunfire', 'Harmonica', 'Hi-hat', 'Keys_jangling',\n",
       "       'Knock', 'Laughter', 'Meow', 'Microwave_oven', 'Oboe', 'Saxophone',\n",
       "       'Scissors', 'Shatter', 'Snare_drum', 'Squeak', 'Tambourine',\n",
       "       'Tearing', 'Telephone', 'Trumpet', 'Violin_or_fiddle', 'Writing'],\n",
       "      dtype=object)"
      ]
     },
     "execution_count": 7,
     "metadata": {},
     "output_type": "execute_result"
    }
   ],
   "source": [
    "labels"
   ]
  },
  {
   "cell_type": "code",
   "execution_count": 22,
   "metadata": {},
   "outputs": [],
   "source": [
    "cuda = torch.cuda.is_available()\n",
    "if cuda:\n",
    "    print('cuda available!')\n",
    "\n",
    "device = torch.device('cuda' if cuda else 'cpu')\n",
    "num_workers = 0"
   ]
  },
  {
   "cell_type": "code",
   "execution_count": 8,
   "metadata": {},
   "outputs": [],
   "source": [
    "from model import LeNet\n",
    "from dataset import AudioDataset"
   ]
  },
  {
   "cell_type": "code",
   "execution_count": 9,
   "metadata": {},
   "outputs": [],
   "source": [
    "model = LeNet(len(labels))"
   ]
  },
  {
   "cell_type": "code",
   "execution_count": 10,
   "metadata": {},
   "outputs": [],
   "source": [
    "model.load_state_dict(torch.load('../logs/log.1/epoch075-1.799-0.651.pth',\n",
    "                                 map_location=lambda storage, loc: storage))"
   ]
  },
  {
   "cell_type": "code",
   "execution_count": 47,
   "metadata": {},
   "outputs": [],
   "source": [
    "# テストなので最初の400テストデータのみ評価\n",
    "test_dataset = AudioDataset(test_df[:400], '../data/audio_test', test=True)"
   ]
  },
  {
   "cell_type": "code",
   "execution_count": 48,
   "metadata": {},
   "outputs": [],
   "source": [
    "test_loader = torch.utils.data.DataLoader(\n",
    "    test_dataset,\n",
    "    512,\n",
    "    shuffle=False\n",
    ")"
   ]
  },
  {
   "cell_type": "code",
   "execution_count": 39,
   "metadata": {},
   "outputs": [],
   "source": [
    "data = iter(test_loader).next()"
   ]
  },
  {
   "cell_type": "code",
   "execution_count": 40,
   "metadata": {},
   "outputs": [
    {
     "name": "stdout",
     "output_type": "stream",
     "text": [
      "torch.Size([128, 1, 64, 401])\n"
     ]
    }
   ],
   "source": [
    "print(data.size())"
   ]
  },
  {
   "cell_type": "code",
   "execution_count": 41,
   "metadata": {},
   "outputs": [],
   "source": [
    "result = model(data)"
   ]
  },
  {
   "cell_type": "code",
   "execution_count": 42,
   "metadata": {},
   "outputs": [
    {
     "data": {
      "text/plain": [
       "torch.Size([128, 41])"
      ]
     },
     "execution_count": 42,
     "metadata": {},
     "output_type": "execute_result"
    }
   ],
   "source": [
    "result.size()"
   ]
  },
  {
   "cell_type": "code",
   "execution_count": 43,
   "metadata": {},
   "outputs": [
    {
     "data": {
      "text/plain": [
       "LeNet(\n",
       "  (block1): Sequential(\n",
       "    (0): Conv2d(1, 20, kernel_size=(5, 5), stride=(1, 1))\n",
       "    (1): ReLU()\n",
       "    (2): MaxPool2d(kernel_size=2, stride=2, padding=0, dilation=1, ceil_mode=False)\n",
       "  )\n",
       "  (block2): Sequential(\n",
       "    (0): Conv2d(20, 20, kernel_size=(5, 5), stride=(1, 1))\n",
       "    (1): ReLU()\n",
       "    (2): MaxPool2d(kernel_size=2, stride=2, padding=0, dilation=1, ceil_mode=False)\n",
       "  )\n",
       "  (fc1): Linear(in_features=25220, out_features=1000, bias=True)\n",
       "  (fc2): Linear(in_features=1000, out_features=41, bias=True)\n",
       ")"
      ]
     },
     "execution_count": 43,
     "metadata": {},
     "output_type": "execute_result"
    }
   ],
   "source": [
    "model.eval()"
   ]
  },
  {
   "cell_type": "code",
   "execution_count": 44,
   "metadata": {},
   "outputs": [
    {
     "data": {
      "text/plain": [
       "400"
      ]
     },
     "execution_count": 44,
     "metadata": {},
     "output_type": "execute_result"
    }
   ],
   "source": [
    "len(test_loader.dataset)"
   ]
  },
  {
   "cell_type": "code",
   "execution_count": 50,
   "metadata": {},
   "outputs": [
    {
     "name": "stdout",
     "output_type": "stream",
     "text": [
      "WARNING: ../data/audio_test/0b0427e2.wav\n",
      "torch.Size([400, 41])\n"
     ]
    }
   ],
   "source": [
    "predictions = []\n",
    "with torch.no_grad():\n",
    "    for batch_idx, data in enumerate(test_loader):\n",
    "        data = data.to(device)\n",
    "        output = model(data)\n",
    "        predictions.append(output)\n",
    "\n",
    "# 41クラスの予測結果を縦方向に結合\n",
    "predictions = torch.cat(predictions, dim=0)\n",
    "print(predictions.size())\n",
    "np.save('predictions.npy', predictions.numpy())"
   ]
  },
  {
   "cell_type": "code",
   "execution_count": 54,
   "metadata": {},
   "outputs": [],
   "source": [
    "predictions = torch.from_numpy(np.load('predictions.npy'))"
   ]
  },
  {
   "cell_type": "code",
   "execution_count": 55,
   "metadata": {},
   "outputs": [
    {
     "data": {
      "text/plain": [
       "tensor([ -6.0687,  -8.1937,  -8.3637,  -6.1772,  -6.2904,  -8.0602,\n",
       "         -7.5709,  -7.7106, -10.4121,  -3.9519,  -2.6194,  -6.3658,\n",
       "         -9.1989,  -3.1801,  -9.4000,  -5.8844,  -1.2346,  -3.2125,\n",
       "         -6.5601, -10.4873,  -6.0737,  -4.1005,  -9.8429,  -0.9729,\n",
       "         -3.2759,  -2.9223,  -6.4541,  -6.9585,  -2.1553, -11.9581,\n",
       "         -9.1059,  -1.9610,  -0.7883,  -3.8649,  -4.7348,  -3.6549,\n",
       "         -0.2592,  -6.6816,  -1.3779,  -8.0430,  -2.9970])"
      ]
     },
     "execution_count": 55,
     "metadata": {},
     "output_type": "execute_result"
    }
   ],
   "source": [
    "predictions[0]"
   ]
  },
  {
   "cell_type": "code",
   "execution_count": 62,
   "metadata": {},
   "outputs": [],
   "source": [
    "value, index = predictions[0].topk(3)"
   ]
  },
  {
   "cell_type": "code",
   "execution_count": 63,
   "metadata": {},
   "outputs": [
    {
     "data": {
      "text/plain": [
       "tensor([-0.2592, -0.7883, -0.9729])"
      ]
     },
     "execution_count": 63,
     "metadata": {},
     "output_type": "execute_result"
    }
   ],
   "source": [
    "value"
   ]
  },
  {
   "cell_type": "code",
   "execution_count": 64,
   "metadata": {},
   "outputs": [
    {
     "data": {
      "text/plain": [
       "tensor(-0.2592)"
      ]
     },
     "execution_count": 64,
     "metadata": {},
     "output_type": "execute_result"
    }
   ],
   "source": [
    "predictions[0].max()"
   ]
  },
  {
   "cell_type": "code",
   "execution_count": 66,
   "metadata": {},
   "outputs": [
    {
     "data": {
      "text/plain": [
       "tensor([ 36,  32,  23])"
      ]
     },
     "execution_count": 66,
     "metadata": {},
     "output_type": "execute_result"
    }
   ],
   "source": [
    "index"
   ]
  },
  {
   "cell_type": "code",
   "execution_count": 68,
   "metadata": {},
   "outputs": [
    {
     "data": {
      "text/plain": [
       "array(['Tearing', 'Shatter', 'Hi-hat'], dtype=object)"
      ]
     },
     "execution_count": 68,
     "metadata": {},
     "output_type": "execute_result"
    }
   ],
   "source": [
    "labels[index]"
   ]
  },
  {
   "cell_type": "code",
   "execution_count": 69,
   "metadata": {},
   "outputs": [
    {
     "data": {
      "text/plain": [
       "'Tearing'"
      ]
     },
     "execution_count": 69,
     "metadata": {},
     "output_type": "execute_result"
    }
   ],
   "source": [
    "labels[36]"
   ]
  },
  {
   "cell_type": "code",
   "execution_count": 70,
   "metadata": {},
   "outputs": [
    {
     "data": {
      "text/plain": [
       "'Shatter'"
      ]
     },
     "execution_count": 70,
     "metadata": {},
     "output_type": "execute_result"
    }
   ],
   "source": [
    "labels[32]"
   ]
  },
  {
   "cell_type": "code",
   "execution_count": 71,
   "metadata": {},
   "outputs": [
    {
     "data": {
      "text/plain": [
       "'Hi-hat'"
      ]
     },
     "execution_count": 71,
     "metadata": {},
     "output_type": "execute_result"
    }
   ],
   "source": [
    "labels[23]"
   ]
  },
  {
   "cell_type": "code",
   "execution_count": 72,
   "metadata": {},
   "outputs": [],
   "source": [
    "_, indices = predictions.topk(3)"
   ]
  },
  {
   "cell_type": "code",
   "execution_count": 73,
   "metadata": {},
   "outputs": [
    {
     "data": {
      "text/plain": [
       "torch.Size([400, 3])"
      ]
     },
     "execution_count": 73,
     "metadata": {},
     "output_type": "execute_result"
    }
   ],
   "source": [
    "indices.size()"
   ]
  },
  {
   "cell_type": "code",
   "execution_count": 91,
   "metadata": {},
   "outputs": [],
   "source": [
    "predicted_labels = labels[indices]"
   ]
  },
  {
   "cell_type": "code",
   "execution_count": 92,
   "metadata": {},
   "outputs": [
    {
     "data": {
      "text/plain": [
       "(400, 3)"
      ]
     },
     "execution_count": 92,
     "metadata": {},
     "output_type": "execute_result"
    }
   ],
   "source": [
    "predicted_labels.shape"
   ]
  },
  {
   "cell_type": "code",
   "execution_count": 93,
   "metadata": {},
   "outputs": [
    {
     "data": {
      "text/plain": [
       "['Tearing Shatter Hi-hat',\n",
       " 'Meow Flute Oboe',\n",
       " 'Fireworks Bass_drum Gunshot_or_gunfire',\n",
       " 'Bass_drum Knock Double_bass',\n",
       " 'Oboe Meow Bark',\n",
       " 'Bass_drum Knock Gunshot_or_gunfire',\n",
       " 'Squeak Telephone Violin_or_fiddle',\n",
       " 'Gong Acoustic_guitar Electric_piano',\n",
       " 'Clarinet Flute Telephone',\n",
       " 'Saxophone Cello Violin_or_fiddle',\n",
       " 'Cello Flute Saxophone',\n",
       " 'Clarinet Saxophone Flute',\n",
       " 'Chime Keys_jangling Glockenspiel',\n",
       " 'Cello Saxophone Double_bass',\n",
       " 'Violin_or_fiddle Trumpet Clarinet',\n",
       " 'Acoustic_guitar Gong Double_bass',\n",
       " 'Flute Gong Electric_piano',\n",
       " 'Bass_drum Flute Gong',\n",
       " 'Clarinet Saxophone Flute',\n",
       " 'Bass_drum Snare_drum Electric_piano',\n",
       " 'Clarinet Flute Saxophone',\n",
       " 'Clarinet Saxophone Flute',\n",
       " 'Saxophone Violin_or_fiddle Clarinet',\n",
       " 'Hi-hat Shatter Gong',\n",
       " 'Cello Acoustic_guitar Flute',\n",
       " 'Keys_jangling Shatter Microwave_oven',\n",
       " 'Trumpet Knock Fireworks',\n",
       " 'Shatter Tambourine Keys_jangling',\n",
       " 'Clarinet Flute Oboe',\n",
       " 'Hi-hat Tearing Shatter',\n",
       " 'Cough Acoustic_guitar Laughter',\n",
       " 'Cello Flute Violin_or_fiddle',\n",
       " 'Bass_drum Electric_piano Knock',\n",
       " 'Clarinet Saxophone Flute',\n",
       " 'Flute Clarinet Oboe',\n",
       " 'Acoustic_guitar Gong Electric_piano',\n",
       " 'Acoustic_guitar Violin_or_fiddle Electric_piano',\n",
       " 'Bark Cough Telephone',\n",
       " 'Acoustic_guitar Clarinet Electric_piano',\n",
       " 'Acoustic_guitar Gong Flute',\n",
       " 'Acoustic_guitar Tambourine Flute',\n",
       " 'Flute Clarinet Saxophone',\n",
       " 'Saxophone Double_bass Fart',\n",
       " 'Trumpet Cello Clarinet',\n",
       " 'Flute Telephone Cello',\n",
       " 'Clarinet Saxophone Flute',\n",
       " 'Fart Cough Writing',\n",
       " 'Violin_or_fiddle Clarinet Saxophone',\n",
       " 'Clarinet Flute Saxophone',\n",
       " 'Keys_jangling Telephone Hi-hat',\n",
       " 'Flute Clarinet Cello',\n",
       " 'Acoustic_guitar Saxophone Electric_piano',\n",
       " 'Bass_drum Double_bass Knock',\n",
       " 'Tearing Fart Writing',\n",
       " 'Acoustic_guitar Gong Glockenspiel',\n",
       " 'Hi-hat Tearing Fireworks',\n",
       " 'Scissors Tambourine Keys_jangling',\n",
       " 'Bass_drum Knock Finger_snapping',\n",
       " 'Cello Violin_or_fiddle Flute',\n",
       " 'Violin_or_fiddle Clarinet Saxophone',\n",
       " 'Trumpet Saxophone Harmonica',\n",
       " 'Flute Electric_piano Saxophone',\n",
       " 'Double_bass Cello Squeak',\n",
       " 'Acoustic_guitar Saxophone Gong',\n",
       " 'Cello Saxophone Flute',\n",
       " 'Cough Drawer_open_or_close Laughter',\n",
       " 'Bass_drum Tambourine Electric_piano',\n",
       " 'Scissors Hi-hat Finger_snapping',\n",
       " 'Electric_piano Gong Bass_drum',\n",
       " 'Squeak Shatter Violin_or_fiddle',\n",
       " 'Oboe Violin_or_fiddle Meow',\n",
       " 'Double_bass Knock Bass_drum',\n",
       " 'Scissors Shatter Tearing',\n",
       " 'Flute Clarinet Electric_piano',\n",
       " 'Acoustic_guitar Flute Gong',\n",
       " 'Squeak Meow Tearing',\n",
       " 'Acoustic_guitar Electric_piano Gong',\n",
       " 'Trumpet Oboe Saxophone',\n",
       " 'Acoustic_guitar Double_bass Violin_or_fiddle',\n",
       " 'Cello Violin_or_fiddle Saxophone',\n",
       " 'Cello Trumpet Double_bass',\n",
       " 'Bass_drum Finger_snapping Knock',\n",
       " 'Saxophone Violin_or_fiddle Flute',\n",
       " 'Bass_drum Knock Finger_snapping',\n",
       " 'Cello Violin_or_fiddle Saxophone',\n",
       " 'Trumpet Flute Harmonica',\n",
       " 'Bass_drum Knock Finger_snapping',\n",
       " 'Acoustic_guitar Squeak Tambourine',\n",
       " 'Bass_drum Knock Fireworks',\n",
       " 'Computer_keyboard Writing Scissors',\n",
       " 'Drawer_open_or_close Knock Fart',\n",
       " 'Squeak Telephone Cowbell',\n",
       " 'Flute Telephone Microwave_oven',\n",
       " 'Bass_drum Snare_drum Knock',\n",
       " 'Double_bass Cello Flute',\n",
       " 'Flute Clarinet Saxophone',\n",
       " 'Violin_or_fiddle Trumpet Writing',\n",
       " 'Saxophone Bass_drum Flute',\n",
       " 'Trumpet Saxophone Cello',\n",
       " 'Oboe Flute Violin_or_fiddle',\n",
       " 'Flute Electric_piano Saxophone',\n",
       " 'Trumpet Hi-hat Tambourine',\n",
       " 'Acoustic_guitar Fart Snare_drum',\n",
       " 'Clarinet Saxophone Flute',\n",
       " 'Flute Trumpet Telephone',\n",
       " 'Flute Clarinet Electric_piano',\n",
       " 'Double_bass Cello Acoustic_guitar',\n",
       " 'Bass_drum Tambourine Knock',\n",
       " 'Bass_drum Drawer_open_or_close Acoustic_guitar',\n",
       " 'Gong Cello Double_bass',\n",
       " 'Hi-hat Gong Telephone',\n",
       " 'Flute Electric_piano Cello',\n",
       " 'Violin_or_fiddle Cello Flute',\n",
       " 'Fireworks Fart Gunshot_or_gunfire',\n",
       " 'Clarinet Oboe Violin_or_fiddle',\n",
       " 'Tambourine Writing Scissors',\n",
       " 'Flute Clarinet Violin_or_fiddle',\n",
       " 'Gunshot_or_gunfire Fireworks Bass_drum',\n",
       " 'Clarinet Double_bass Cello',\n",
       " 'Clarinet Double_bass Saxophone',\n",
       " 'Acoustic_guitar Laughter Flute',\n",
       " 'Acoustic_guitar Gong Glockenspiel',\n",
       " 'Trumpet Saxophone Acoustic_guitar',\n",
       " 'Violin_or_fiddle Cello Acoustic_guitar',\n",
       " 'Hi-hat Tearing Finger_snapping',\n",
       " 'Acoustic_guitar Double_bass Gong',\n",
       " 'Bass_drum Snare_drum Flute',\n",
       " 'Cough Drawer_open_or_close Snare_drum',\n",
       " 'Cello Violin_or_fiddle Acoustic_guitar',\n",
       " 'Bass_drum Snare_drum Double_bass',\n",
       " 'Bass_drum Snare_drum Cello',\n",
       " 'Clarinet Saxophone Cello',\n",
       " 'Gong Acoustic_guitar Chime',\n",
       " 'Fart Drawer_open_or_close Squeak',\n",
       " 'Cello Violin_or_fiddle Flute',\n",
       " 'Cello Violin_or_fiddle Flute',\n",
       " 'Drawer_open_or_close Microwave_oven Squeak',\n",
       " 'Burping_or_eructation Laughter Violin_or_fiddle',\n",
       " 'Bass_drum Knock Electric_piano',\n",
       " 'Cello Flute Saxophone',\n",
       " 'Squeak Shatter Cowbell',\n",
       " 'Telephone Flute Meow',\n",
       " 'Clarinet Saxophone Trumpet',\n",
       " 'Bass_drum Shatter Tearing',\n",
       " 'Clarinet Acoustic_guitar Saxophone',\n",
       " 'Shatter Squeak Keys_jangling',\n",
       " 'Cello Trumpet Double_bass',\n",
       " 'Computer_keyboard Squeak Fireworks',\n",
       " 'Clarinet Saxophone Flute',\n",
       " 'Hi-hat Tearing Shatter',\n",
       " 'Cello Gong Violin_or_fiddle',\n",
       " 'Flute Gong Violin_or_fiddle',\n",
       " 'Harmonica Trumpet Flute',\n",
       " 'Fart Squeak Shatter',\n",
       " 'Trumpet Violin_or_fiddle Cello',\n",
       " 'Flute Cello Clarinet',\n",
       " 'Tambourine Keys_jangling Glockenspiel',\n",
       " 'Hi-hat Shatter Snare_drum',\n",
       " 'Knock Drawer_open_or_close Microwave_oven',\n",
       " 'Oboe Clarinet Saxophone',\n",
       " 'Hi-hat Gong Shatter',\n",
       " 'Clarinet Flute Saxophone',\n",
       " 'Trumpet Harmonica Violin_or_fiddle',\n",
       " 'Cello Saxophone Flute',\n",
       " 'Bass_drum Gong Flute',\n",
       " 'Bass_drum Computer_keyboard Knock',\n",
       " 'Bass_drum Knock Electric_piano',\n",
       " 'Knock Bass_drum Microwave_oven',\n",
       " 'Bass_drum Electric_piano Burping_or_eructation',\n",
       " 'Acoustic_guitar Violin_or_fiddle Flute',\n",
       " 'Electric_piano Gong Acoustic_guitar',\n",
       " 'Hi-hat Shatter Telephone',\n",
       " 'Clarinet Flute Telephone',\n",
       " 'Clarinet Saxophone Flute',\n",
       " 'Bass_drum Knock Fireworks',\n",
       " 'Acoustic_guitar Fart Writing',\n",
       " 'Hi-hat Shatter Fireworks',\n",
       " 'Cough Shatter Laughter',\n",
       " 'Microwave_oven Trumpet Knock',\n",
       " 'Bass_drum Knock Gunshot_or_gunfire',\n",
       " 'Tambourine Acoustic_guitar Fart',\n",
       " 'Oboe Violin_or_fiddle Clarinet',\n",
       " 'Bark Knock Cough',\n",
       " 'Violin_or_fiddle Oboe Flute',\n",
       " 'Cowbell Laughter Violin_or_fiddle',\n",
       " 'Electric_piano Acoustic_guitar Gong',\n",
       " 'Cello Double_bass Flute',\n",
       " 'Fart Shatter Gunshot_or_gunfire',\n",
       " 'Fart Shatter Drawer_open_or_close',\n",
       " 'Clarinet Flute Saxophone',\n",
       " 'Meow Squeak Violin_or_fiddle',\n",
       " 'Bass_drum Electric_piano Knock',\n",
       " 'Tambourine Hi-hat Keys_jangling',\n",
       " 'Hi-hat Gong Shatter',\n",
       " 'Saxophone Flute Clarinet',\n",
       " 'Flute Violin_or_fiddle Gong',\n",
       " 'Flute Saxophone Clarinet',\n",
       " 'Gong Clarinet Fireworks',\n",
       " 'Trumpet Glockenspiel Squeak',\n",
       " 'Flute Cowbell Clarinet',\n",
       " 'Bus Trumpet Bark',\n",
       " 'Snare_drum Bass_drum Hi-hat',\n",
       " 'Gunshot_or_gunfire Tearing Hi-hat',\n",
       " 'Acoustic_guitar Bus Bass_drum',\n",
       " 'Laughter Applause Scissors',\n",
       " 'Cello Double_bass Flute',\n",
       " 'Gunshot_or_gunfire Bass_drum Fireworks',\n",
       " 'Flute Saxophone Electric_piano',\n",
       " 'Acoustic_guitar Gong Electric_piano',\n",
       " 'Electric_piano Gong Squeak',\n",
       " 'Acoustic_guitar Gong Trumpet',\n",
       " 'Clarinet Flute Cello',\n",
       " 'Shatter Fireworks Laughter',\n",
       " 'Cello Double_bass Saxophone',\n",
       " 'Acoustic_guitar Electric_piano Gong',\n",
       " 'Snare_drum Saxophone Fart',\n",
       " 'Clarinet Flute Saxophone',\n",
       " 'Oboe Clarinet Trumpet',\n",
       " 'Trumpet Cello Violin_or_fiddle',\n",
       " 'Acoustic_guitar Snare_drum Laughter',\n",
       " 'Trumpet Oboe Cello',\n",
       " 'Flute Clarinet Saxophone',\n",
       " 'Acoustic_guitar Meow Electric_piano',\n",
       " 'Harmonica Hi-hat Saxophone',\n",
       " 'Bass_drum Knock Cello',\n",
       " 'Flute Electric_piano Saxophone',\n",
       " 'Bass_drum Knock Microwave_oven',\n",
       " 'Bus Fart Squeak',\n",
       " 'Drawer_open_or_close Knock Microwave_oven',\n",
       " 'Fart Cough Tearing',\n",
       " 'Bass_drum Gunshot_or_gunfire Knock',\n",
       " 'Flute Harmonica Electric_piano',\n",
       " 'Writing Microwave_oven Tearing',\n",
       " 'Clarinet Oboe Flute',\n",
       " 'Fireworks Fart Chime',\n",
       " 'Cough Squeak Laughter',\n",
       " 'Acoustic_guitar Clarinet Gong',\n",
       " 'Violin_or_fiddle Saxophone Gong',\n",
       " 'Trumpet Saxophone Meow',\n",
       " 'Acoustic_guitar Fart Writing',\n",
       " 'Acoustic_guitar Bass_drum Gong',\n",
       " 'Clarinet Double_bass Flute',\n",
       " 'Trumpet Microwave_oven Snare_drum',\n",
       " 'Shatter Squeak Tearing',\n",
       " 'Keys_jangling Tearing Scissors',\n",
       " 'Cowbell Violin_or_fiddle Flute',\n",
       " 'Double_bass Knock Cello',\n",
       " 'Acoustic_guitar Writing Saxophone',\n",
       " 'Double_bass Knock Bass_drum',\n",
       " 'Clarinet Flute Telephone',\n",
       " 'Clarinet Saxophone Acoustic_guitar',\n",
       " 'Oboe Trumpet Electric_piano',\n",
       " 'Snare_drum Bass_drum Hi-hat',\n",
       " 'Fart Bark Burping_or_eructation',\n",
       " 'Microwave_oven Drawer_open_or_close Squeak',\n",
       " 'Acoustic_guitar Gong Harmonica',\n",
       " 'Hi-hat Gong Shatter',\n",
       " 'Fireworks Bass_drum Knock',\n",
       " 'Bass_drum Cello Knock',\n",
       " 'Writing Scissors Hi-hat',\n",
       " 'Acoustic_guitar Gong Glockenspiel',\n",
       " 'Applause Fireworks Squeak',\n",
       " 'Cello Flute Gong',\n",
       " 'Trumpet Saxophone Electric_piano',\n",
       " 'Trumpet Oboe Violin_or_fiddle',\n",
       " 'Hi-hat Tearing Shatter',\n",
       " 'Trumpet Oboe Cello',\n",
       " 'Squeak Laughter Flute',\n",
       " 'Tearing Trumpet Cough',\n",
       " 'Hi-hat Tearing Fireworks',\n",
       " 'Flute Electric_piano Cello',\n",
       " 'Bass_drum Snare_drum Acoustic_guitar',\n",
       " 'Trumpet Violin_or_fiddle Flute',\n",
       " 'Oboe Flute Acoustic_guitar',\n",
       " 'Harmonica Squeak Telephone',\n",
       " 'Finger_snapping Tambourine Shatter',\n",
       " 'Cello Flute Saxophone',\n",
       " 'Fart Writing Squeak',\n",
       " 'Bass_drum Finger_snapping Knock',\n",
       " 'Hi-hat Shatter Microwave_oven',\n",
       " 'Acoustic_guitar Electric_piano Saxophone',\n",
       " 'Cough Fart Squeak',\n",
       " 'Meow Cough Gong',\n",
       " 'Acoustic_guitar Violin_or_fiddle Flute',\n",
       " 'Electric_piano Flute Gong',\n",
       " 'Clarinet Flute Gong',\n",
       " 'Clarinet Cello Saxophone',\n",
       " 'Bass_drum Gunshot_or_gunfire Shatter',\n",
       " 'Cello Trumpet Flute',\n",
       " 'Bass_drum Snare_drum Gong',\n",
       " 'Hi-hat Trumpet Scissors',\n",
       " 'Saxophone Trumpet Clarinet',\n",
       " 'Trumpet Acoustic_guitar Saxophone',\n",
       " 'Acoustic_guitar Gong Clarinet',\n",
       " 'Fart Shatter Hi-hat',\n",
       " 'Acoustic_guitar Saxophone Fart',\n",
       " 'Clarinet Flute Saxophone',\n",
       " 'Gong Acoustic_guitar Electric_piano',\n",
       " 'Gunshot_or_gunfire Fart Finger_snapping',\n",
       " 'Oboe Acoustic_guitar Cowbell',\n",
       " 'Clarinet Saxophone Trumpet',\n",
       " 'Violin_or_fiddle Saxophone Cello',\n",
       " 'Clarinet Double_bass Flute',\n",
       " 'Flute Cello Saxophone',\n",
       " 'Bass_drum Gong Flute',\n",
       " 'Violin_or_fiddle Trumpet Clarinet',\n",
       " 'Violin_or_fiddle Flute Telephone',\n",
       " 'Fart Saxophone Laughter',\n",
       " 'Acoustic_guitar Writing Gong',\n",
       " 'Hi-hat Shatter Tearing',\n",
       " 'Trumpet Fireworks Knock',\n",
       " 'Writing Squeak Knock',\n",
       " 'Oboe Violin_or_fiddle Clarinet',\n",
       " 'Hi-hat Tambourine Squeak',\n",
       " 'Bass_drum Drawer_open_or_close Knock',\n",
       " 'Gong Applause Saxophone',\n",
       " 'Gunshot_or_gunfire Snare_drum Bass_drum',\n",
       " 'Bass_drum Gunshot_or_gunfire Shatter',\n",
       " 'Shatter Gunshot_or_gunfire Tearing',\n",
       " 'Snare_drum Tearing Saxophone',\n",
       " 'Fart Squeak Gong',\n",
       " 'Flute Saxophone Telephone',\n",
       " 'Acoustic_guitar Gong Bass_drum',\n",
       " 'Bass_drum Knock Double_bass',\n",
       " 'Cello Saxophone Flute',\n",
       " 'Cello Flute Saxophone',\n",
       " 'Bass_drum Snare_drum Knock',\n",
       " 'Bass_drum Snare_drum Electric_piano',\n",
       " 'Cello Flute Double_bass',\n",
       " 'Bass_drum Electric_piano Knock',\n",
       " 'Squeak Burping_or_eructation Fireworks',\n",
       " 'Flute Clarinet Violin_or_fiddle',\n",
       " 'Flute Cello Violin_or_fiddle',\n",
       " 'Trumpet Violin_or_fiddle Saxophone',\n",
       " 'Fart Microwave_oven Tearing',\n",
       " 'Acoustic_guitar Glockenspiel Chime',\n",
       " 'Violin_or_fiddle Microwave_oven Flute',\n",
       " 'Acoustic_guitar Double_bass Electric_piano',\n",
       " 'Clarinet Trumpet Flute',\n",
       " 'Fireworks Tambourine Shatter',\n",
       " 'Gunshot_or_gunfire Tearing Bass_drum',\n",
       " 'Gong Clarinet Flute',\n",
       " 'Bass_drum Flute Acoustic_guitar',\n",
       " 'Cello Saxophone Electric_piano',\n",
       " 'Bass_drum Snare_drum Knock',\n",
       " 'Saxophone Clarinet Violin_or_fiddle',\n",
       " 'Cello Flute Violin_or_fiddle',\n",
       " 'Fart Tambourine Squeak',\n",
       " 'Oboe Clarinet Saxophone',\n",
       " 'Cello Flute Double_bass',\n",
       " 'Saxophone Violin_or_fiddle Cello',\n",
       " 'Cello Clarinet Acoustic_guitar',\n",
       " 'Bass_drum Gunshot_or_gunfire Knock',\n",
       " 'Burping_or_eructation Fireworks Bass_drum',\n",
       " 'Saxophone Flute Clarinet',\n",
       " 'Acoustic_guitar Snare_drum Cowbell',\n",
       " 'Flute Violin_or_fiddle Saxophone',\n",
       " 'Bass_drum Double_bass Electric_piano',\n",
       " 'Meow Squeak Trumpet',\n",
       " 'Keys_jangling Drawer_open_or_close Microwave_oven',\n",
       " 'Hi-hat Shatter Writing',\n",
       " 'Electric_piano Gong Chime',\n",
       " 'Meow Squeak Acoustic_guitar',\n",
       " 'Cello Acoustic_guitar Double_bass',\n",
       " 'Bass_drum Finger_snapping Knock',\n",
       " 'Shatter Keys_jangling Scissors',\n",
       " 'Bass_drum Snare_drum Gong',\n",
       " 'Bass_drum Snare_drum Tambourine',\n",
       " 'Gong Acoustic_guitar Saxophone',\n",
       " 'Shatter Telephone Microwave_oven',\n",
       " 'Hi-hat Tearing Shatter',\n",
       " 'Bass_drum Fart Gunshot_or_gunfire',\n",
       " 'Flute Gong Telephone',\n",
       " 'Knock Bass_drum Drawer_open_or_close',\n",
       " 'Bass_drum Knock Electric_piano',\n",
       " 'Clarinet Saxophone Flute',\n",
       " 'Bass_drum Flute Snare_drum',\n",
       " 'Trumpet Saxophone Violin_or_fiddle',\n",
       " 'Acoustic_guitar Tambourine Fart',\n",
       " 'Electric_piano Flute Cello',\n",
       " 'Acoustic_guitar Double_bass Knock',\n",
       " 'Flute Clarinet Saxophone',\n",
       " 'Acoustic_guitar Gong Violin_or_fiddle',\n",
       " 'Double_bass Cello Violin_or_fiddle',\n",
       " 'Bark Snare_drum Shatter',\n",
       " 'Acoustic_guitar Cello Electric_piano',\n",
       " 'Gunshot_or_gunfire Tearing Snare_drum',\n",
       " 'Hi-hat Tearing Drawer_open_or_close',\n",
       " 'Acoustic_guitar Gong Glockenspiel',\n",
       " 'Saxophone Clarinet Flute',\n",
       " 'Bus Squeak Bark',\n",
       " 'Bass_drum Knock Gong',\n",
       " 'Bass_drum Knock Snare_drum',\n",
       " 'Trumpet Harmonica Saxophone',\n",
       " 'Saxophone Trumpet Flute',\n",
       " 'Scissors Applause Bark',\n",
       " 'Finger_snapping Tearing Squeak',\n",
       " 'Bass_drum Gunshot_or_gunfire Electric_piano',\n",
       " 'Double_bass Microwave_oven Trumpet',\n",
       " 'Hi-hat Gong Shatter']"
      ]
     },
     "execution_count": 93,
     "metadata": {},
     "output_type": "execute_result"
    }
   ],
   "source": [
    "predicted_labels = [' '.join(lst) for lst in predicted_labels]\n",
    "predicted_labels"
   ]
  },
  {
   "cell_type": "code",
   "execution_count": 80,
   "metadata": {},
   "outputs": [
    {
     "data": {
      "text/plain": [
       "0      Laughter Hi-Hat Flute\n",
       "1      Laughter Hi-Hat Flute\n",
       "2      Laughter Hi-Hat Flute\n",
       "3      Laughter Hi-Hat Flute\n",
       "4      Laughter Hi-Hat Flute\n",
       "5      Laughter Hi-Hat Flute\n",
       "6      Laughter Hi-Hat Flute\n",
       "7      Laughter Hi-Hat Flute\n",
       "8      Laughter Hi-Hat Flute\n",
       "9      Laughter Hi-Hat Flute\n",
       "10     Laughter Hi-Hat Flute\n",
       "11     Laughter Hi-Hat Flute\n",
       "12     Laughter Hi-Hat Flute\n",
       "13     Laughter Hi-Hat Flute\n",
       "14     Laughter Hi-Hat Flute\n",
       "15     Laughter Hi-Hat Flute\n",
       "16     Laughter Hi-Hat Flute\n",
       "17     Laughter Hi-Hat Flute\n",
       "18     Laughter Hi-Hat Flute\n",
       "19     Laughter Hi-Hat Flute\n",
       "20     Laughter Hi-Hat Flute\n",
       "21     Laughter Hi-Hat Flute\n",
       "22     Laughter Hi-Hat Flute\n",
       "23     Laughter Hi-Hat Flute\n",
       "24     Laughter Hi-Hat Flute\n",
       "25     Laughter Hi-Hat Flute\n",
       "26     Laughter Hi-Hat Flute\n",
       "27     Laughter Hi-Hat Flute\n",
       "28     Laughter Hi-Hat Flute\n",
       "29     Laughter Hi-Hat Flute\n",
       "               ...          \n",
       "370    Laughter Hi-Hat Flute\n",
       "371    Laughter Hi-Hat Flute\n",
       "372    Laughter Hi-Hat Flute\n",
       "373    Laughter Hi-Hat Flute\n",
       "374    Laughter Hi-Hat Flute\n",
       "375    Laughter Hi-Hat Flute\n",
       "376    Laughter Hi-Hat Flute\n",
       "377    Laughter Hi-Hat Flute\n",
       "378    Laughter Hi-Hat Flute\n",
       "379    Laughter Hi-Hat Flute\n",
       "380    Laughter Hi-Hat Flute\n",
       "381    Laughter Hi-Hat Flute\n",
       "382    Laughter Hi-Hat Flute\n",
       "383    Laughter Hi-Hat Flute\n",
       "384    Laughter Hi-Hat Flute\n",
       "385    Laughter Hi-Hat Flute\n",
       "386    Laughter Hi-Hat Flute\n",
       "387    Laughter Hi-Hat Flute\n",
       "388    Laughter Hi-Hat Flute\n",
       "389    Laughter Hi-Hat Flute\n",
       "390    Laughter Hi-Hat Flute\n",
       "391    Laughter Hi-Hat Flute\n",
       "392    Laughter Hi-Hat Flute\n",
       "393    Laughter Hi-Hat Flute\n",
       "394    Laughter Hi-Hat Flute\n",
       "395    Laughter Hi-Hat Flute\n",
       "396    Laughter Hi-Hat Flute\n",
       "397    Laughter Hi-Hat Flute\n",
       "398    Laughter Hi-Hat Flute\n",
       "399    Laughter Hi-Hat Flute\n",
       "Name: label, Length: 400, dtype: object"
      ]
     },
     "execution_count": 80,
     "metadata": {},
     "output_type": "execute_result"
    }
   ],
   "source": [
    "test_df['label'][:400]"
   ]
  },
  {
   "cell_type": "code",
   "execution_count": 94,
   "metadata": {},
   "outputs": [],
   "source": [
    "test_df['label'][:400] = predicted_labels"
   ]
  },
  {
   "cell_type": "code",
   "execution_count": 95,
   "metadata": {},
   "outputs": [
    {
     "data": {
      "text/plain": [
       "0                           Tearing Shatter Hi-hat\n",
       "1                                  Meow Flute Oboe\n",
       "2           Fireworks Bass_drum Gunshot_or_gunfire\n",
       "3                      Bass_drum Knock Double_bass\n",
       "4                                   Oboe Meow Bark\n",
       "5               Bass_drum Knock Gunshot_or_gunfire\n",
       "6                Squeak Telephone Violin_or_fiddle\n",
       "7              Gong Acoustic_guitar Electric_piano\n",
       "8                         Clarinet Flute Telephone\n",
       "9                 Saxophone Cello Violin_or_fiddle\n",
       "10                           Cello Flute Saxophone\n",
       "11                        Clarinet Saxophone Flute\n",
       "12                Chime Keys_jangling Glockenspiel\n",
       "13                     Cello Saxophone Double_bass\n",
       "14               Violin_or_fiddle Trumpet Clarinet\n",
       "15                Acoustic_guitar Gong Double_bass\n",
       "16                       Flute Gong Electric_piano\n",
       "17                            Bass_drum Flute Gong\n",
       "18                        Clarinet Saxophone Flute\n",
       "19             Bass_drum Snare_drum Electric_piano\n",
       "20                        Clarinet Flute Saxophone\n",
       "21                        Clarinet Saxophone Flute\n",
       "22             Saxophone Violin_or_fiddle Clarinet\n",
       "23                             Hi-hat Shatter Gong\n",
       "24                     Cello Acoustic_guitar Flute\n",
       "25            Keys_jangling Shatter Microwave_oven\n",
       "26                         Trumpet Knock Fireworks\n",
       "27                Shatter Tambourine Keys_jangling\n",
       "28                             Clarinet Flute Oboe\n",
       "29                          Hi-hat Tearing Shatter\n",
       "                          ...                     \n",
       "370                         Hi-hat Tearing Shatter\n",
       "371              Bass_drum Fart Gunshot_or_gunfire\n",
       "372                           Flute Gong Telephone\n",
       "373           Knock Bass_drum Drawer_open_or_close\n",
       "374                 Bass_drum Knock Electric_piano\n",
       "375                       Clarinet Saxophone Flute\n",
       "376                     Bass_drum Flute Snare_drum\n",
       "377             Trumpet Saxophone Violin_or_fiddle\n",
       "378                Acoustic_guitar Tambourine Fart\n",
       "379                     Electric_piano Flute Cello\n",
       "380              Acoustic_guitar Double_bass Knock\n",
       "381                       Flute Clarinet Saxophone\n",
       "382          Acoustic_guitar Gong Violin_or_fiddle\n",
       "383             Double_bass Cello Violin_or_fiddle\n",
       "384                        Bark Snare_drum Shatter\n",
       "385           Acoustic_guitar Cello Electric_piano\n",
       "386          Gunshot_or_gunfire Tearing Snare_drum\n",
       "387            Hi-hat Tearing Drawer_open_or_close\n",
       "388              Acoustic_guitar Gong Glockenspiel\n",
       "389                       Saxophone Clarinet Flute\n",
       "390                                Bus Squeak Bark\n",
       "391                           Bass_drum Knock Gong\n",
       "392                     Bass_drum Knock Snare_drum\n",
       "393                    Trumpet Harmonica Saxophone\n",
       "394                        Saxophone Trumpet Flute\n",
       "395                         Scissors Applause Bark\n",
       "396                 Finger_snapping Tearing Squeak\n",
       "397    Bass_drum Gunshot_or_gunfire Electric_piano\n",
       "398             Double_bass Microwave_oven Trumpet\n",
       "399                            Hi-hat Gong Shatter\n",
       "Name: label, Length: 400, dtype: object"
      ]
     },
     "execution_count": 95,
     "metadata": {},
     "output_type": "execute_result"
    }
   ],
   "source": [
    "test_df['label'][:400]"
   ]
  },
  {
   "cell_type": "code",
   "execution_count": null,
   "metadata": {},
   "outputs": [],
   "source": [
    "q"
   ]
  }
 ],
 "metadata": {
  "kernelspec": {
   "display_name": "Python [conda root]",
   "language": "python",
   "name": "conda-root-py"
  },
  "language_info": {
   "codemirror_mode": {
    "name": "ipython",
    "version": 3
   },
   "file_extension": ".py",
   "mimetype": "text/x-python",
   "name": "python",
   "nbconvert_exporter": "python",
   "pygments_lexer": "ipython3",
   "version": "3.6.4"
  }
 },
 "nbformat": 4,
 "nbformat_minor": 2
}
