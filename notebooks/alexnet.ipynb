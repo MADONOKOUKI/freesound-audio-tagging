{
 "cells": [
  {
   "cell_type": "code",
   "execution_count": 17,
   "metadata": {},
   "outputs": [],
   "source": [
    "import torch\n",
    "import torch.nn as nn"
   ]
  },
  {
   "cell_type": "code",
   "execution_count": 80,
   "metadata": {},
   "outputs": [],
   "source": [
    "class AlexNet2d(nn.Module):\n",
    "    \n",
    "    def __init__(self, num_classes):\n",
    "        super(AlexNet2d, self).__init__()\n",
    "        \n",
    "        self.num_classes = 41\n",
    "        \n",
    "        self.block1 = nn.Sequential(\n",
    "            nn.Conv2d(1, 96, kernel_size=11, stride=(2, 3), padding=5),\n",
    "            nn.ReLU(inplace=True),\n",
    "            nn.MaxPool2d(kernel_size=3, stride=(1, 2)),\n",
    "            nn.BatchNorm2d(96)\n",
    "        )\n",
    "\n",
    "        self.block2 = nn.Sequential(\n",
    "            nn.Conv2d(96, 256, kernel_size=5, stride=(2, 3), padding=2),\n",
    "            nn.ReLU(inplace=True),\n",
    "            nn.MaxPool2d(kernel_size=3, stride=(2, 2)),\n",
    "            nn.BatchNorm2d(256)\n",
    "        )\n",
    "        \n",
    "        self.block3 = nn.Sequential(\n",
    "            nn.Conv2d(256, 384, kernel_size=3, padding=1),\n",
    "            nn.ReLU(inplace=True),\n",
    "            nn.Conv2d(384, 384, kernel_size=3, padding=1),\n",
    "            nn.ReLU(inplace=True),\n",
    "            nn.Conv2d(384, 256, kernel_size=3, padding=1),\n",
    "            nn.ReLU(inplace=True),\n",
    "            nn.MaxPool2d(kernel_size=3, stride=(1, 2)),\n",
    "            nn.BatchNorm2d(256)\n",
    "        )\n",
    "\n",
    "        self.classifier = nn.Sequential(\n",
    "            nn.Linear(256 * 5 * 4, 2048),\n",
    "            nn.ReLU(inplace=True),\n",
    "            nn.Linear(2048, 2048),\n",
    "            nn.ReLU(inplace=True),\n",
    "            nn.Linear(2048, self.num_classes)\n",
    "        )\n",
    "\n",
    "    def forward(self, x):\n",
    "        print(x.size())\n",
    "        x = self.block1(x)\n",
    "        print(x.size())\n",
    "        x = self.block2(x)\n",
    "        print(x.size())\n",
    "        x = self.block3(x)\n",
    "        print(x.size())\n",
    "        x = x.view(x.size(0), -1)\n",
    "        x = self.classifier(x)\n",
    "        return x"
   ]
  },
  {
   "cell_type": "code",
   "execution_count": 82,
   "metadata": {},
   "outputs": [
    {
     "name": "stdout",
     "output_type": "stream",
     "text": [
      "torch.Size([128, 1, 64, 401])\n",
      "torch.Size([128, 96, 30, 66])\n",
      "torch.Size([128, 256, 7, 10])\n",
      "torch.Size([128, 256, 5, 4])\n"
     ]
    }
   ],
   "source": [
    "alexnet = AlexNet2d(41)\n",
    "input = torch.rand((128, 1, 64, 401))\n",
    "result = alexnet(input)"
   ]
  },
  {
   "cell_type": "code",
   "execution_count": 92,
   "metadata": {},
   "outputs": [],
   "source": [
    "class AlexNet1d(nn.Module):\n",
    "    \n",
    "    def __init__(self, num_classes):\n",
    "        super(AlexNet1d, self).__init__()\n",
    "        \n",
    "        self.num_classes = 41\n",
    "        \n",
    "        self.block1 = nn.Sequential(\n",
    "            nn.Conv1d(64, 96, kernel_size=11, stride=3, padding=5),\n",
    "            nn.ReLU(inplace=True),\n",
    "            nn.MaxPool1d(kernel_size=3, stride=2),\n",
    "            nn.BatchNorm1d(96)\n",
    "        )\n",
    "\n",
    "        self.block2 = nn.Sequential(\n",
    "            nn.Conv1d(96, 256, kernel_size=5, stride=3, padding=2),\n",
    "            nn.ReLU(inplace=True),\n",
    "            nn.MaxPool1d(kernel_size=3, stride=2),\n",
    "            nn.BatchNorm1d(256)\n",
    "        )\n",
    "        \n",
    "        self.block3 = nn.Sequential(\n",
    "            nn.Conv1d(256, 384, kernel_size=3, padding=1),\n",
    "            nn.ReLU(inplace=True),\n",
    "            nn.Conv1d(384, 384, kernel_size=3, padding=1),\n",
    "            nn.ReLU(inplace=True),\n",
    "            nn.Conv1d(384, 256, kernel_size=3, padding=1),\n",
    "            nn.ReLU(inplace=True),\n",
    "            nn.MaxPool1d(kernel_size=3, stride=2),\n",
    "            nn.BatchNorm1d(256)\n",
    "        )\n",
    "\n",
    "        self.classifier = nn.Sequential(\n",
    "            nn.Linear(1024, 2048),\n",
    "            nn.ReLU(inplace=True),\n",
    "            nn.Linear(2048, 2048),\n",
    "            nn.ReLU(inplace=True),\n",
    "            nn.Linear(2048, self.num_classes)\n",
    "        )\n",
    "\n",
    "    def forward(self, x):\n",
    "        print(x.size())\n",
    "        x = self.block1(x)\n",
    "        print(x.size())\n",
    "        x = self.block2(x)\n",
    "        print(x.size())\n",
    "        x = self.block3(x)\n",
    "        print(x.size())\n",
    "        x = x.view(x.size(0), -1)\n",
    "        x = self.classifier(x)\n",
    "        print(x.size())\n",
    "        return x"
   ]
  },
  {
   "cell_type": "code",
   "execution_count": 93,
   "metadata": {},
   "outputs": [
    {
     "name": "stdout",
     "output_type": "stream",
     "text": [
      "torch.Size([128, 64, 401])\n",
      "torch.Size([128, 96, 66])\n",
      "torch.Size([128, 256, 10])\n",
      "torch.Size([128, 256, 4])\n",
      "torch.Size([128, 41])\n"
     ]
    }
   ],
   "source": [
    "alexnet = AlexNet1d(41)\n",
    "input = torch.rand((128, 64, 401))\n",
    "result = alexnet(input)"
   ]
  },
  {
   "cell_type": "code",
   "execution_count": null,
   "metadata": {},
   "outputs": [],
   "source": []
  }
 ],
 "metadata": {
  "kernelspec": {
   "display_name": "Python 3",
   "language": "python",
   "name": "python3"
  },
  "language_info": {
   "codemirror_mode": {
    "name": "ipython",
    "version": 3
   },
   "file_extension": ".py",
   "mimetype": "text/x-python",
   "name": "python",
   "nbconvert_exporter": "python",
   "pygments_lexer": "ipython3",
   "version": "3.6.5"
  }
 },
 "nbformat": 4,
 "nbformat_minor": 2
}
