{
 "cells": [
  {
   "cell_type": "code",
   "execution_count": 20,
   "metadata": {},
   "outputs": [],
   "source": [
    "import os\n",
    "import numpy as np\n",
    "import pandas as pd\n",
    "import torch\n",
    "from sklearn.preprocessing import LabelEncoder"
   ]
  },
  {
   "cell_type": "code",
   "execution_count": 23,
   "metadata": {},
   "outputs": [],
   "source": [
    "def softmax(x):\n",
    "    \"\"\"Compute softmax values for each sets of scores in x.\"\"\"\n",
    "    return np.exp(x) / np.sum(np.exp(x), axis=0)"
   ]
  },
  {
   "cell_type": "code",
   "execution_count": 24,
   "metadata": {},
   "outputs": [
    {
     "name": "stdout",
     "output_type": "stream",
     "text": [
      "11 [32 18  3 ... 39  3 33]\n",
      "15 [17 18  3 ... 39  3 16]\n",
      "17 [32 18  3 ... 22  3 15]\n",
      "19 [24 18  3 ...  6  3 15]\n",
      "20 [23 18  3 ...  6  3 27]\n"
     ]
    }
   ],
   "source": [
    "pred_list = []\n",
    "for i in [11, 15, 17, 19, 20]:\n",
    "    pred = np.load('../logs/log.%03d/predictions.npy' % i)\n",
    "    pred = softmax(pred.T).T\n",
    "    print(i, np.argmax(pred, axis=1))  # 個別モデルの予測インデックス\n",
    "    pred_list.append(pred)"
   ]
  },
  {
   "cell_type": "code",
   "execution_count": 25,
   "metadata": {},
   "outputs": [
    {
     "data": {
      "text/plain": [
       "5"
      ]
     },
     "execution_count": 25,
     "metadata": {},
     "output_type": "execute_result"
    }
   ],
   "source": [
    "len(pred_list)"
   ]
  },
  {
   "cell_type": "code",
   "execution_count": 26,
   "metadata": {},
   "outputs": [
    {
     "data": {
      "text/plain": [
       "(9400, 41)"
      ]
     },
     "execution_count": 26,
     "metadata": {},
     "output_type": "execute_result"
    }
   ],
   "source": [
    "pred_list[0].shape"
   ]
  },
  {
   "cell_type": "code",
   "execution_count": 27,
   "metadata": {},
   "outputs": [],
   "source": [
    "prediction = np.ones_like(pred_list[0])"
   ]
  },
  {
   "cell_type": "code",
   "execution_count": 28,
   "metadata": {},
   "outputs": [
    {
     "data": {
      "text/plain": [
       "(9400, 41)"
      ]
     },
     "execution_count": 28,
     "metadata": {},
     "output_type": "execute_result"
    }
   ],
   "source": [
    "prediction.shape"
   ]
  },
  {
   "cell_type": "code",
   "execution_count": 29,
   "metadata": {},
   "outputs": [],
   "source": [
    "# アンサンブル\n",
    "for pred in pred_list:\n",
    "    prediction *= pred\n",
    "prediction = prediction ** (1.0 / len(pred_list))"
   ]
  },
  {
   "cell_type": "code",
   "execution_count": 30,
   "metadata": {},
   "outputs": [
    {
     "data": {
      "text/plain": [
       "array([32, 18,  3, ...,  6,  3, 27])"
      ]
     },
     "execution_count": 30,
     "metadata": {},
     "output_type": "execute_result"
    }
   ],
   "source": [
    "# アンサンブルモデルの予測インデックス\n",
    "np.argmax(prediction, axis=1)"
   ]
  },
  {
   "cell_type": "code",
   "execution_count": 31,
   "metadata": {},
   "outputs": [
    {
     "data": {
      "text/plain": [
       "(9400, 41)"
      ]
     },
     "execution_count": 31,
     "metadata": {},
     "output_type": "execute_result"
    }
   ],
   "source": [
    "prediction.shape"
   ]
  },
  {
   "cell_type": "code",
   "execution_count": 32,
   "metadata": {},
   "outputs": [
    {
     "name": "stdout",
     "output_type": "stream",
     "text": [
      "['Acoustic_guitar' 'Applause' 'Bark' 'Bass_drum' 'Burping_or_eructation'\n",
      " 'Bus' 'Cello' 'Chime' 'Clarinet' 'Computer_keyboard' 'Cough' 'Cowbell'\n",
      " 'Double_bass' 'Drawer_open_or_close' 'Electric_piano' 'Fart'\n",
      " 'Finger_snapping' 'Fireworks' 'Flute' 'Glockenspiel' 'Gong'\n",
      " 'Gunshot_or_gunfire' 'Harmonica' 'Hi-hat' 'Keys_jangling' 'Knock'\n",
      " 'Laughter' 'Meow' 'Microwave_oven' 'Oboe' 'Saxophone' 'Scissors'\n",
      " 'Shatter' 'Snare_drum' 'Squeak' 'Tambourine' 'Tearing' 'Telephone'\n",
      " 'Trumpet' 'Violin_or_fiddle' 'Writing']\n"
     ]
    }
   ],
   "source": [
    "# データリストをDataFrameとしてロード\n",
    "train_df = pd.read_csv('../data/train.csv')\n",
    "test_df = pd.read_csv('../data/sample_submission.csv')\n",
    "\n",
    "# DataFrameのラベルをインデックスに変換\n",
    "le = LabelEncoder()\n",
    "le.fit(np.unique(train_df.label))\n",
    "train_df['label_idx'] = le.transform(train_df['label'])\n",
    "num_classes = len(le.classes_)\n",
    "print(le.classes_)"
   ]
  },
  {
   "cell_type": "code",
   "execution_count": 33,
   "metadata": {},
   "outputs": [],
   "source": [
    "# Top3の出力を持つラベルに変換\n",
    "prediction_tensor = torch.from_numpy(prediction)\n",
    "_, indices = prediction_tensor.topk(3)  # (N, 3)\n",
    "# ラベルに変換\n",
    "predicted_labels = le.classes_[indices]\n",
    "predicted_labels = [' '.join(lst) for lst in predicted_labels]\n",
    "test_df['label'] = predicted_labels\n",
    "test_df.to_csv('submission.csv', index=False)"
   ]
  },
  {
   "cell_type": "code",
   "execution_count": null,
   "metadata": {},
   "outputs": [],
   "source": []
  }
 ],
 "metadata": {
  "kernelspec": {
   "display_name": "Python [conda root]",
   "language": "python",
   "name": "conda-root-py"
  },
  "language_info": {
   "codemirror_mode": {
    "name": "ipython",
    "version": 3
   },
   "file_extension": ".py",
   "mimetype": "text/x-python",
   "name": "python",
   "nbconvert_exporter": "python",
   "pygments_lexer": "ipython3",
   "version": "3.6.4"
  }
 },
 "nbformat": 4,
 "nbformat_minor": 2
}
